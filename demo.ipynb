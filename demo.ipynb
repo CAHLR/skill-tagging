{
 "cells": [
  {
   "cell_type": "code",
   "execution_count": null,
   "id": "90f86dd1",
   "metadata": {},
   "outputs": [],
   "source": [
    "import encoder\n",
    "import torch\n",
    "import json\n",
    "from inference import ClassificationModelTester, SimilarityMatchingModelTester"
   ]
  },
  {
   "cell_type": "code",
   "execution_count": null,
   "id": "336b31b6",
   "metadata": {},
   "outputs": [],
   "source": [
    "device = torch.device(\"cuda\")\n",
    "text_encoder = encoder.TextEncoder(device)\n",
    "image_encoder = encoder.ImageEncoder(device)\n",
    "fusion = encoder.Fusion()"
   ]
  },
  {
   "cell_type": "code",
   "execution_count": null,
   "id": "ba8b4c82",
   "metadata": {},
   "outputs": [],
   "source": [
    "vectors = fusion.fuse(text_encoder.encode(\"data/examples/texts.json\"),\n",
    "                      image_encoder.encode(\"data/examples/images\"))"
   ]
  },
  {
   "cell_type": "code",
   "execution_count": null,
   "id": "24b2db17",
   "metadata": {},
   "outputs": [],
   "source": [
    "device = torch.device(\"cpu\")\n",
    "all_labels = json.load(open(\"data/ccss_skills.json\"))\n",
    "classfication_tester = ClassificationModelTester(\"models/classification_model.ckpt\",\n",
    "                                                 all_labels, device)\n",
    "similarity_matching_tester = SimilarityMatchingModelTester(\"models/similarity_matching_model.ckpt\",\n",
    "                                                           all_labels, device)"
   ]
  },
  {
   "cell_type": "code",
   "execution_count": null,
   "id": "3ac954a1",
   "metadata": {},
   "outputs": [],
   "source": [
    "classfication_tester.predict(vectors)"
   ]
  },
  {
   "cell_type": "code",
   "execution_count": null,
   "id": "4fd3688a",
   "metadata": {},
   "outputs": [],
   "source": [
    "similarity_matching_tester.predict(vectors)"
   ]
  },
  {
   "cell_type": "code",
   "execution_count": null,
   "id": "ffe43f46",
   "metadata": {},
   "outputs": [],
   "source": []
  }
 ],
 "metadata": {
  "kernelspec": {
   "display_name": "Python 3",
   "language": "python",
   "name": "python3"
  },
  "language_info": {
   "codemirror_mode": {
    "name": "ipython",
    "version": 3
   },
   "file_extension": ".py",
   "mimetype": "text/x-python",
   "name": "python",
   "nbconvert_exporter": "python",
   "pygments_lexer": "ipython3",
   "version": "3.6.8"
  }
 },
 "nbformat": 4,
 "nbformat_minor": 5
}
