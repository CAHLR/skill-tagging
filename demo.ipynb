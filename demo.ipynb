{
 "cells": [
  {
   "cell_type": "code",
   "execution_count": null,
   "id": "90f86dd1",
   "metadata": {},
   "outputs": [],
   "source": [
    "import encoder\n",
    "import torch\n",
    "import json\n",
    "from inference import ClassificationModelTester, SimilarityMatchingModelTester"
   ]
  },
  {
   "cell_type": "code",
   "execution_count": null,
   "id": "336b31b6",
   "metadata": {},
   "outputs": [],
   "source": [
    "all_labels = json.load(open(\"data/ccss_skills.json\"))\n",
    "device = torch.device(\"cuda\")"
   ]
  },
  {
   "cell_type": "code",
   "execution_count": null,
   "id": "f5cff01b",
   "metadata": {},
   "outputs": [],
   "source": [
    "text_encoder = encoder.TextEncoder(device)\n",
    "image_encoder = encoder.ImageEncoder(device)\n",
    "fusion = encoder.Fusion()"
   ]
  },
  {
   "cell_type": "code",
   "execution_count": null,
   "id": "ba8b4c82",
   "metadata": {},
   "outputs": [],
   "source": [
    "text_vectors = text_encoder.encode(\"data/examples/texts.json\")\n",
    "image_vectors = image_encoder.encode(\"data/examples/images\")\n",
    "fused_vectors = fusion.fuse(text_vectors, image_vectors)"
   ]
  },
  {
   "cell_type": "markdown",
   "id": "0f86a214",
   "metadata": {},
   "source": [
    "## Text + image"
   ]
  },
  {
   "cell_type": "code",
   "execution_count": null,
   "id": "24b2db17",
   "metadata": {},
   "outputs": [],
   "source": [
    "classfication_tester = ClassificationModelTester(\n",
    "    \"models/classification_model.ckpt\", all_labels, device)\n",
    "similarity_matching_tester = SimilarityMatchingModelTester(\n",
    "    \"models/similarity_matching_model.ckpt\", all_labels, device)"
   ]
  },
  {
   "cell_type": "code",
   "execution_count": null,
   "id": "159351f5",
   "metadata": {},
   "outputs": [],
   "source": [
    "classfication_tester.predict(fused_vectors)"
   ]
  },
  {
   "cell_type": "code",
   "execution_count": null,
   "id": "5dc01134",
   "metadata": {},
   "outputs": [],
   "source": [
    "similarity_matching_tester.predict(fused_vectors)"
   ]
  },
  {
   "cell_type": "markdown",
   "id": "9da20e2e",
   "metadata": {},
   "source": [
    "## Text only"
   ]
  },
  {
   "cell_type": "code",
   "execution_count": null,
   "id": "a95d8d76",
   "metadata": {},
   "outputs": [],
   "source": [
    "classfication_tester_text_only = ClassificationModelTester(\n",
    "    \"models/classification_model_text_only.ckpt\", all_labels, device)\n",
    "similarity_matching_tester_text_only = SimilarityMatchingModelTester(\n",
    "    \"models/similarity_matching_model_text_only.ckpt\", all_labels, device)"
   ]
  },
  {
   "cell_type": "code",
   "execution_count": null,
   "id": "3ac954a1",
   "metadata": {},
   "outputs": [],
   "source": [
    "classfication_tester_text_only.predict(text_vectors)"
   ]
  },
  {
   "cell_type": "code",
   "execution_count": null,
   "id": "4fd3688a",
   "metadata": {},
   "outputs": [],
   "source": [
    "similarity_matching_tester_text_only.predict(text_vectors)"
   ]
  }
 ],
 "metadata": {
  "kernelspec": {
   "display_name": "Python 3",
   "language": "python",
   "name": "python3"
  },
  "language_info": {
   "codemirror_mode": {
    "name": "ipython",
    "version": 3
   },
   "file_extension": ".py",
   "mimetype": "text/x-python",
   "name": "python",
   "nbconvert_exporter": "python",
   "pygments_lexer": "ipython3",
   "version": "3.6.8"
  }
 },
 "nbformat": 4,
 "nbformat_minor": 5
}
