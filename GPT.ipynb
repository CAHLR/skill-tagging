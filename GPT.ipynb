{
 "cells": [
  {
   "cell_type": "markdown",
   "id": "3ab8c5d1",
   "metadata": {},
   "source": [
    "### 1. Fine-tuning "
   ]
  },
  {
   "cell_type": "markdown",
   "id": "c8562076",
   "metadata": {},
   "source": [
    "References:\n",
    "- https://github.com/openai/openai-python\n",
    "- https://platform.openai.com/docs/guides/fine-tuning"
   ]
  },
  {
   "cell_type": "code",
   "execution_count": null,
   "id": "8706dd46",
   "metadata": {},
   "outputs": [],
   "source": [
    "from pathlib import Path\n",
    "from openai import OpenAI\n",
    "import os\n",
    "import csv\n",
    "from tenacity import retry, stop_after_attempt, wait_random_exponential"
   ]
  },
  {
   "cell_type": "markdown",
   "id": "286dc211",
   "metadata": {},
   "source": [
    "#### API Key"
   ]
  },
  {
   "cell_type": "code",
   "execution_count": null,
   "id": "30003b43",
   "metadata": {},
   "outputs": [],
   "source": [
    "client = OpenAI(\n",
    "    api_key=os.environ.get(\"OPENAI_API_KEY\")    \n",
    ")"
   ]
  },
  {
   "cell_type": "markdown",
   "id": "a1d78015",
   "metadata": {},
   "source": [
    "#### File Uploads"
   ]
  },
  {
   "cell_type": "code",
   "execution_count": null,
   "id": "f1d086e1",
   "metadata": {},
   "outputs": [],
   "source": [
    "# training / validation files upload\n",
    "\n",
    "train_response= client.files.create(\n",
    "    file=Path(\"data/examples/gpt_finetuning_train.jsonl\"),\n",
    "    purpose=\"fine-tune\",\n",
    ")\n",
    "\n",
    "val_response= client.files.create(\n",
    "    file=Path(\"data/examples/gpt_finetuning_val.jsonl\"),\n",
    "    purpose=\"fine-tune\",\n",
    ")\n",
    "      \n",
    "train_file_id=train_response.id\n",
    "val_file_id=val_response.id\n",
    "\n",
    "print(f\"Training file uploaded successfully with ID: {train_file_id}\")\n",
    "print(f\"Validation file uploaded successfully with ID: {val_file_id}\")"
   ]
  },
  {
   "cell_type": "markdown",
   "id": "e6bb6fdb",
   "metadata": {},
   "source": [
    "#### Fine-tuning"
   ]
  },
  {
   "cell_type": "code",
   "execution_count": null,
   "id": "e3e58982",
   "metadata": {},
   "outputs": [],
   "source": [
    "train_file_id=train_response.id\n",
    "val_file_id=val_response.id\n",
    "model_name=\"gpt-3.5-turbo-0125\"\n",
    "\n",
    "response=client.fine_tuning.jobs.create(training_file=train_file_id, model=model_name, validation_file=val_file_id, hyperparameters={\"n_epochs\": 3}) \n",
    "job_id= response.id\n",
    "print(f\"Fine-tuning job created successfully with ID: {job_id}\")"
   ]
  },
  {
   "cell_type": "code",
   "execution_count": null,
   "id": "8ea264ae",
   "metadata": {},
   "outputs": [],
   "source": [
    "# List up to 10 events from a fine-tuning job. Once the fine-tuning job is complete, you'll receive the ID of your fine-tuned model (model_id) here. \n",
    "client.fine_tuning.jobs.list_events(fine_tuning_job_id=job_id, limit=10)"
   ]
  },
  {
   "cell_type": "markdown",
   "id": "77d6a63c",
   "metadata": {},
   "source": [
    "#### Inference"
   ]
  },
  {
   "cell_type": "code",
   "execution_count": null,
   "id": "a51c0e49",
   "metadata": {},
   "outputs": [],
   "source": [
    "csv_file_path = \"Path to an input file containing the problems\"  \n",
    "pred_csv_file_path=\"Path to an output file containing the problems and skill predictions\"\n",
    "model_id=\"Your fine-tuned model ID\"\n",
    "\n",
    "problems = []\n",
    "with open(csv_file_path, 'r', encoding='utf-8') as csv_file:\n",
    "    csv_reader = csv.DictReader(csv_file)\n",
    "    for row in csv_reader:\n",
    "        problems.append(row['problem'])  \n",
    "\n",
    "predicted_skills = []\n",
    "\n",
    "for problem_text in problems:\n",
    "    @retry(wait=wait_random_exponential(min=1, max=60), stop=stop_after_attempt(5))\n",
    "    def completion_with_backoff(**kwargs):\n",
    "        return client.chat.completions.create(**kwargs)\n",
    "    \n",
    "    response = completion_with_backoff(\n",
    "    model=model_id,   \n",
    "    messages=[\n",
    "        {\"role\": \"system\", \"content\": \"Which standard from the Common Core Standards for Mathematics is most closely related to the given problem?\"},\n",
    "        {\"role\": \"user\", \"content\": \"Problem: \" + problem_text}\n",
    "    ],\n",
    "    temperature=0.2\n",
    ")\n",
    "    \n",
    "    predicted_skills.append(response.choices[0].message.content)\n",
    "\n",
    "updated_rows = []\n",
    "with open(csv_file_path, 'r', encoding='utf-8') as csv_file:\n",
    "    csv_reader = csv.DictReader(csv_file)\n",
    "    fieldnames = csv_reader.fieldnames + ['pred_skill']\n",
    "    for row, predicted_skill in zip(csv_reader, predicted_skills):\n",
    "        row['pred_skill'] = predicted_skill\n",
    "        updated_rows.append(row)\n",
    "\n",
    "with open(pred_csv_file_path, 'w', newline='', encoding='utf-8') as csv_file:\n",
    "    csv_writer = csv.DictWriter(csv_file, fieldnames=fieldnames)\n",
    "    csv_writer.writeheader()\n",
    "    csv_writer.writerows(updated_rows)   "
   ]
  },
  {
   "cell_type": "markdown",
   "id": "4ec7b624",
   "metadata": {},
   "source": [
    "### 2. Standards in the prompt"
   ]
  },
  {
   "cell_type": "code",
   "execution_count": null,
   "id": "fed3e789",
   "metadata": {},
   "outputs": [],
   "source": [
    "csv_file_path = \"Path to an input file containing the problems\"  \n",
    "pred_csv_file_path=\"Path to an output file containing the problems and skill predictions\"\n",
    "standards=\"A list of standards (skills)\"\n",
    "\n",
    "problems = []\n",
    "with open(csv_file_path, 'r', encoding='utf-8') as csv_file:\n",
    "    csv_reader = csv.DictReader(csv_file)\n",
    "    for row in csv_reader:\n",
    "        problems.append(row['problem'])  \n",
    "\n",
    "predicted_skills = []\n",
    "\n",
    "for problem_text in problems:\n",
    "    @retry(wait=wait_random_exponential(min=1, max=60), stop=stop_after_attempt(5))\n",
    "    def completion_with_backoff(**kwargs):\n",
    "        return client.chat.completions.create(**kwargs)\n",
    "    \n",
    "    response = completion_with_backoff(\n",
    "    model=\"gpt-3.5-turbo-0125\",   \n",
    "    messages=[\n",
    "        {\"role\": \"system\", \"content\": \"Which standard from the Common Core Standards for Mathematics is most closely related to the given problem?\"},\n",
    "        {\"role\": \"user\", \"content\": f\"Problem: {problem_text}, Standards: {standards}\"}\n",
    "    ],\n",
    "    temperature=0.2\n",
    ")\n",
    "    \n",
    "    predicted_skills.append(response.choices[0].message.content)\n",
    "\n",
    "updated_rows = []\n",
    "with open(csv_file_path, 'r', encoding='utf-8') as csv_file:\n",
    "    csv_reader = csv.DictReader(csv_file)\n",
    "    fieldnames = csv_reader.fieldnames + ['pred_skill']\n",
    "    for row, predicted_skill in zip(csv_reader, predicted_skills):\n",
    "        row['pred_skill'] = predicted_skill\n",
    "        updated_rows.append(row)\n",
    "\n",
    "with open(pred_csv_file_path, 'w', newline='', encoding='utf-8') as csv_file:\n",
    "    csv_writer = csv.DictWriter(csv_file, fieldnames=fieldnames)\n",
    "    csv_writer.writeheader()\n",
    "    csv_writer.writerows(updated_rows)  "
   ]
  }
 ],
 "metadata": {
  "kernelspec": {
   "display_name": "Python 3",
   "language": "python",
   "name": "python3"
  },
  "language_info": {
   "codemirror_mode": {
    "name": "ipython",
    "version": 3
   },
   "file_extension": ".py",
   "mimetype": "text/x-python",
   "name": "python",
   "nbconvert_exporter": "python",
   "pygments_lexer": "ipython3",
   "version": "3.8.8"
  }
 },
 "nbformat": 4,
 "nbformat_minor": 5
}
